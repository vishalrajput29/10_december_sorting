{
  "nbformat": 4,
  "nbformat_minor": 0,
  "metadata": {
    "colab": {
      "provenance": []
    },
    "kernelspec": {
      "name": "python3",
      "display_name": "Python 3"
    },
    "language_info": {
      "name": "python"
    }
  },
  "cells": [
    {
      "cell_type": "code",
      "execution_count": 1,
      "metadata": {
        "colab": {
          "base_uri": "https://localhost:8080/"
        },
        "id": "NLxPqwoYav0Z",
        "outputId": "90a5bef3-fc0e-46bf-bc17-38040c40912d"
      },
      "outputs": [
        {
          "output_type": "stream",
          "name": "stdout",
          "text": [
            "The element with the maximum frequency is: 3\n"
          ]
        }
      ],
      "source": [
        "#Q1\n",
        "def find_max_occurrence(arr):\n",
        "    # Step 1: Create a dictionary to store frequency of elements\n",
        "    frequency_map = {}\n",
        "\n",
        "    # Step 2: Traverse the array and fill the frequency_map\n",
        "    for num in arr:\n",
        "        if num in frequency_map:\n",
        "            frequency_map[num] += 1\n",
        "        else:\n",
        "            frequency_map[num] = 1\n",
        "\n",
        "    # Step 3: Find the element with the maximum frequency\n",
        "    max_element = None\n",
        "    max_frequency = 0\n",
        "\n",
        "    for num, count in frequency_map.items():\n",
        "        if count > max_frequency:\n",
        "            max_frequency = count\n",
        "            max_element = num\n",
        "\n",
        "    return max_element\n",
        "\n",
        "# Example usage:\n",
        "arr = [1, 3, 2, 3, 3, 2, 1, 5, 6, 3, 3]\n",
        "result = find_max_occurrence(arr)\n",
        "print(f\"The element with the maximum frequency is: {result}\")\n"
      ]
    },
    {
      "cell_type": "code",
      "source": [
        "#Q2\n",
        "def find_missing_number(arr):\n",
        "    n = len(arr) + 1  # The array has n-1 elements, so n is len(arr) + 1\n",
        "    total_sum = n * (n + 1) // 2  # Sum of numbers from 1 to n\n",
        "    array_sum = sum(arr)  # Sum of the elements in the given array\n",
        "    missing_number = total_sum - array_sum  # The missing number\n",
        "    return missing_number\n",
        "\n",
        "# Example usage:\n",
        "arr = [1, 2, 4, 6, 3, 7, 8]\n",
        "missing_number = find_missing_number(arr)\n",
        "print(f\"The missing number is: {missing_number}\")\n"
      ],
      "metadata": {
        "colab": {
          "base_uri": "https://localhost:8080/"
        },
        "id": "dHdG4Z2qa4LK",
        "outputId": "67363fa8-4773-47c0-81ee-0aa5ee209646"
      },
      "execution_count": 2,
      "outputs": [
        {
          "output_type": "stream",
          "name": "stdout",
          "text": [
            "The missing number is: 5\n"
          ]
        }
      ]
    },
    {
      "cell_type": "code",
      "source": [
        "#q3\n",
        "def find_odd_occurrence(arr):\n",
        "    result = 0\n",
        "    for num in arr:\n",
        "        result ^= num  # XOR each element with the result\n",
        "    return result\n",
        "\n",
        "# Example usage:\n",
        "arr = [1, 2, 3, 2, 3, 1, 3]\n",
        "odd_occurrence_number = find_odd_occurrence(arr)\n",
        "print(f\"The number that occurs an odd number of times is: {odd_occurrence_number}\")\n"
      ],
      "metadata": {
        "colab": {
          "base_uri": "https://localhost:8080/"
        },
        "id": "apa0AO8nbDuk",
        "outputId": "d3601432-06f3-460d-c6aa-d3569a7c7e48"
      },
      "execution_count": 3,
      "outputs": [
        {
          "output_type": "stream",
          "name": "stdout",
          "text": [
            "The number that occurs an odd number of times is: 3\n"
          ]
        }
      ]
    },
    {
      "cell_type": "code",
      "source": [
        "#q4\n",
        "def find_pair_with_sum(arr, K):\n",
        "    # Create a set to store the elements we've seen so far\n",
        "    seen = set()\n",
        "\n",
        "    # Traverse the array\n",
        "    for num in arr:\n",
        "        complement = K - num  # The number we need to form the sum K\n",
        "\n",
        "        # Check if the complement exists in the set\n",
        "        if complement in seen:\n",
        "            return (complement, num)  # Return the pair that adds up to K\n",
        "\n",
        "        # If complement not found, add the current number to the set\n",
        "        seen.add(num)\n",
        "\n",
        "    # If no pair found, return None\n",
        "    return None\n",
        "\n",
        "# Example usage:\n",
        "arr = [1, 4, 6, 8, 9, 2]\n",
        "K = 10\n",
        "result = find_pair_with_sum(arr, K)\n",
        "if result:\n",
        "    print(f\"Pair found: {result}\")\n",
        "else:\n",
        "    print(\"No pair found\")\n"
      ],
      "metadata": {
        "colab": {
          "base_uri": "https://localhost:8080/"
        },
        "id": "yha7ceTZbM9l",
        "outputId": "173fca84-02c2-4927-cb13-b0bb5acb6fdd"
      },
      "execution_count": 4,
      "outputs": [
        {
          "output_type": "stream",
          "name": "stdout",
          "text": [
            "Pair found: (4, 6)\n"
          ]
        }
      ]
    },
    {
      "cell_type": "code",
      "source": [
        "#Q5\n",
        "def find_closest_sum_pair(arr):\n",
        "    # Sort the array first\n",
        "    arr.sort()\n",
        "\n",
        "    # Initialize two pointers\n",
        "    left = 0\n",
        "    right = len(arr) - 1\n",
        "\n",
        "    closest_sum = float('inf')  # Initialize to infinity to find the minimum\n",
        "    closest_pair = None\n",
        "\n",
        "    # Iterate while the left pointer is less than the right pointer\n",
        "    while left < right:\n",
        "        current_sum = arr[left] + arr[right]\n",
        "\n",
        "        # Check if the current sum is closer to 0\n",
        "        if abs(current_sum) < abs(closest_sum):\n",
        "            closest_sum = current_sum\n",
        "            closest_pair = (arr[left], arr[right])\n",
        "\n",
        "        # Move the pointers based on the current sum\n",
        "        if current_sum > 0:\n",
        "            right -= 1  # Need a smaller sum, move the right pointer to the left\n",
        "        elif current_sum < 0:\n",
        "            left += 1  # Need a larger sum, move the left pointer to the right\n",
        "        else:\n",
        "            break  # If current_sum is zero, we're done\n",
        "\n",
        "    return closest_pair\n",
        "\n",
        "# Example usage:\n",
        "arr = [1, 60, -10, 70, -80, 85]\n",
        "closest_pair = find_closest_sum_pair(arr)\n",
        "print(f\"The pair whose sum is closest to zero is: {closest_pair}\")\n"
      ],
      "metadata": {
        "colab": {
          "base_uri": "https://localhost:8080/"
        },
        "id": "LjAu3mkzbaFl",
        "outputId": "e95536e4-acde-433e-d9a5-bf5c50a25c64"
      },
      "execution_count": 5,
      "outputs": [
        {
          "output_type": "stream",
          "name": "stdout",
          "text": [
            "The pair whose sum is closest to zero is: (-80, 85)\n"
          ]
        }
      ]
    },
    {
      "cell_type": "code",
      "source": [
        "#Q6\n",
        "def find_three_elements_with_sum(arr, target):\n",
        "    # Sort the array\n",
        "    arr.sort()\n",
        "\n",
        "    # Iterate over the array, treating each element as the first element of the triplet\n",
        "    for i in range(len(arr) - 2):\n",
        "        # Skip duplicates for the first element\n",
        "        if i > 0 and arr[i] == arr[i - 1]:\n",
        "            continue\n",
        "\n",
        "        # Initialize two pointers\n",
        "        left = i + 1\n",
        "        right = len(arr) - 1\n",
        "\n",
        "        while left < right:\n",
        "            current_sum = arr[i] + arr[left] + arr[right]\n",
        "\n",
        "            # If the sum is equal to the target, return the triplet\n",
        "            if current_sum == target:\n",
        "                return (arr[i], arr[left], arr[right])\n",
        "            # If the sum is less than the target, move the left pointer to the right to increase the sum\n",
        "            elif current_sum < target:\n",
        "                left += 1\n",
        "            # If the sum is greater than the target, move the right pointer to the left to decrease the sum\n",
        "            else:\n",
        "                right -= 1\n",
        "\n",
        "    # If no such triplet is found, return None\n",
        "    return None\n",
        "\n",
        "# Example usage:\n",
        "arr = [1, 2, 3, 4, 5, 6, 7, 8]\n",
        "target = 12\n",
        "result = find_three_elements_with_sum(arr, target)\n",
        "if result:\n",
        "    print(f\"Triplet found: {result}\")\n",
        "else:\n",
        "    print(\"No triplet found\")\n"
      ],
      "metadata": {
        "colab": {
          "base_uri": "https://localhost:8080/"
        },
        "id": "c9LngPF2bk0j",
        "outputId": "5dffecd4-3d90-45a9-aaae-87b6970f846c"
      },
      "execution_count": 6,
      "outputs": [
        {
          "output_type": "stream",
          "name": "stdout",
          "text": [
            "Triplet found: (1, 3, 8)\n"
          ]
        }
      ]
    },
    {
      "cell_type": "code",
      "source": [
        "#Q7\n",
        "def find_pythagorean_triplet(arr):\n",
        "    # Step 1: Store squares of all elements in a set\n",
        "    squares_set = set(x * x for x in arr)\n",
        "\n",
        "    # Step 2: Iterate over all pairs (i, j)\n",
        "    for i in range(len(arr)):\n",
        "        for j in range(i + 1, len(arr)):\n",
        "            # Calculate sum of squares of i and j\n",
        "            sum_of_squares = arr[i] * arr[i] + arr[j] * arr[j]\n",
        "\n",
        "            # Step 3: Check if the sum of squares exists in the set\n",
        "            if sum_of_squares in squares_set:\n",
        "                # Find the square root of the sum_of_squares\n",
        "                k = int(sum_of_squares**0.5)\n",
        "\n",
        "                # Ensure k is actually in the array (it may not be)\n",
        "                if k in arr and k != arr[i] and k != arr[j]:\n",
        "                    return (arr[i], arr[j], k)\n",
        "\n",
        "    # If no such triplet is found, return None\n",
        "    return None\n",
        "\n",
        "# Example usage:\n",
        "arr = [3, 1, 4, 6, 5]\n",
        "triplet = find_pythagorean_triplet(arr)\n",
        "if triplet:\n",
        "    print(f\"Triplet found: {triplet}\")\n",
        "else:\n",
        "    print(\"No Pythagorean triplet found\")\n"
      ],
      "metadata": {
        "colab": {
          "base_uri": "https://localhost:8080/"
        },
        "id": "UjRCMfzWbufL",
        "outputId": "53c4ccf4-b8c4-4b13-d21a-5e3646fc0c2b"
      },
      "execution_count": 7,
      "outputs": [
        {
          "output_type": "stream",
          "name": "stdout",
          "text": [
            "Triplet found: (3, 4, 5)\n"
          ]
        }
      ]
    },
    {
      "cell_type": "code",
      "source": [
        "#Q8\n",
        "def find_majority_element(arr):\n",
        "    # Phase 1: Find a candidate for the majority element\n",
        "    candidate = None\n",
        "    count = 0\n",
        "\n",
        "    for num in arr:\n",
        "        if count == 0:\n",
        "            candidate = num\n",
        "        count += (1 if num == candidate else -1)\n",
        "\n",
        "    # Phase 2: Verify if the candidate is actually the majority element\n",
        "    count = 0\n",
        "    for num in arr:\n",
        "        if num == candidate:\n",
        "            count += 1\n",
        "\n",
        "    # If the candidate occurs more than n/2 times, return it\n",
        "    if count > len(arr) // 2:\n",
        "        return candidate\n",
        "    else:\n",
        "        return None\n",
        "\n",
        "# Example usage:\n",
        "arr = [3, 1, 3, 3, 2, 3, 3]\n",
        "result = find_majority_element(arr)\n",
        "if result:\n",
        "    print(f\"The majority element is: {result}\")\n",
        "else:\n",
        "    print(\"No majority element found\")\n"
      ],
      "metadata": {
        "colab": {
          "base_uri": "https://localhost:8080/"
        },
        "id": "Q7GAlGpab6bz",
        "outputId": "63d4829e-8fdf-4e77-de7c-c2c67b79de35"
      },
      "execution_count": 8,
      "outputs": [
        {
          "output_type": "stream",
          "name": "stdout",
          "text": [
            "The majority element is: 3\n"
          ]
        }
      ]
    },
    {
      "cell_type": "code",
      "source": [
        "#Q9\n",
        "def find_row_with_max_zeros(matrix):\n",
        "    n = len(matrix)  # size of the matrix (n x n)\n",
        "\n",
        "    # Initialize variables\n",
        "    max_zeros = -1\n",
        "    row_index = -1\n",
        "\n",
        "    # Start from the top-right corner of the matrix\n",
        "    j = n - 1  # column index (start at the rightmost column)\n",
        "\n",
        "    # Traverse each row\n",
        "    for i in range(n):  # row index\n",
        "        # Move left until we encounter a 1 or go out of bounds\n",
        "        while j >= 0 and matrix[i][j] == 0:\n",
        "            j -= 1\n",
        "\n",
        "        # Count the number of 0's in the current row\n",
        "        num_zeros = n - j - 1  # Since all elements to the right of j are 0's\n",
        "\n",
        "        # Update the row_index if we find a row with more 0's\n",
        "        if num_zeros > max_zeros:\n",
        "            max_zeros = num_zeros\n",
        "            row_index = i\n",
        "\n",
        "    # Return the row with the maximum number of 0's\n",
        "    return row_index\n",
        "\n",
        "# Example usage:\n",
        "matrix = [\n",
        "    [1, 1, 1, 0, 0],\n",
        "    [1, 1, 0, 0, 0],\n",
        "    [1, 0, 0, 0, 0],\n",
        "    [0, 0, 0, 0, 0]\n",
        "]\n",
        "\n",
        "result = find_row_with_max_zeros(matrix)\n",
        "print(f\"The row with the maximum number of 0's is: {result}\")\n"
      ],
      "metadata": {
        "colab": {
          "base_uri": "https://localhost:8080/"
        },
        "id": "uFL1_Ne7cCQy",
        "outputId": "c4b99b06-38ed-4de1-9d9f-62d0de6327e7"
      },
      "execution_count": 9,
      "outputs": [
        {
          "output_type": "stream",
          "name": "stdout",
          "text": [
            "The row with the maximum number of 0's is: 3\n"
          ]
        }
      ]
    },
    {
      "cell_type": "code",
      "source": [
        "#Q10\n",
        "def sort_012(arr):\n",
        "    low = 0\n",
        "    mid = 0\n",
        "    high = len(arr) - 1\n",
        "\n",
        "    while mid <= high:\n",
        "        if arr[mid] == 0:\n",
        "            # Swap arr[low] and arr[mid], then move both pointers\n",
        "            arr[low], arr[mid] = arr[mid], arr[low]\n",
        "            low += 1\n",
        "            mid += 1\n",
        "        elif arr[mid] == 1:\n",
        "            # Just move the mid pointer\n",
        "            mid += 1\n",
        "        else:  # arr[mid] == 2\n",
        "            # Swap arr[mid] and arr[high], then move the high pointer\n",
        "            arr[high], arr[mid] = arr[mid], arr[high]\n",
        "            high -= 1\n",
        "\n",
        "    return arr\n",
        "\n",
        "# Example usage:\n",
        "arr = [0, 1, 1, 0, 1, 2, 1, 2, 0, 0, 0, 1]\n",
        "sorted_arr = sort_012(arr)\n",
        "print(f\"Sorted array: {sorted_arr}\")\n"
      ],
      "metadata": {
        "colab": {
          "base_uri": "https://localhost:8080/"
        },
        "id": "1PnzdpP-cMyI",
        "outputId": "ced0a5f4-cbdc-4fd5-966c-3d956da0e45f"
      },
      "execution_count": 10,
      "outputs": [
        {
          "output_type": "stream",
          "name": "stdout",
          "text": [
            "Sorted array: [0, 0, 0, 0, 0, 1, 1, 1, 1, 1, 2, 2]\n"
          ]
        }
      ]
    },
    {
      "cell_type": "code",
      "source": [],
      "metadata": {
        "id": "0gMIWId2cNVi"
      },
      "execution_count": null,
      "outputs": []
    }
  ]
}